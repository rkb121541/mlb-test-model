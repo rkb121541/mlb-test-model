{
 "cells": [
  {
   "cell_type": "markdown",
   "metadata": {},
   "source": [
    "# MLB Test Model"
   ]
  },
  {
   "cell_type": "markdown",
   "metadata": {},
   "source": [
    "Install necessary packages with pip"
   ]
  },
  {
   "cell_type": "code",
   "execution_count": 1,
   "metadata": {},
   "outputs": [
    {
     "name": "stdout",
     "output_type": "stream",
     "text": [
      "Requirement already satisfied: pandas in ./.venv/lib/python3.13/site-packages (2.3.0)\n",
      "Requirement already satisfied: openpyxl in ./.venv/lib/python3.13/site-packages (3.1.5)\n",
      "Requirement already satisfied: numpy>=1.26.0 in ./.venv/lib/python3.13/site-packages (from pandas) (2.3.0)\n",
      "Requirement already satisfied: python-dateutil>=2.8.2 in ./.venv/lib/python3.13/site-packages (from pandas) (2.9.0.post0)\n",
      "Requirement already satisfied: pytz>=2020.1 in ./.venv/lib/python3.13/site-packages (from pandas) (2025.2)\n",
      "Requirement already satisfied: tzdata>=2022.7 in ./.venv/lib/python3.13/site-packages (from pandas) (2025.2)\n",
      "Requirement already satisfied: et-xmlfile in ./.venv/lib/python3.13/site-packages (from openpyxl) (2.0.0)\n",
      "Requirement already satisfied: six>=1.5 in ./.venv/lib/python3.13/site-packages (from python-dateutil>=2.8.2->pandas) (1.17.0)\n",
      "Note: you may need to restart the kernel to use updated packages.\n"
     ]
    }
   ],
   "source": [
    "%pip install pandas openpyxl"
   ]
  },
  {
   "cell_type": "markdown",
   "metadata": {},
   "source": [
    "Load the excel file and convert to a dataframe"
   ]
  },
  {
   "cell_type": "code",
   "execution_count": 2,
   "metadata": {},
   "outputs": [
    {
     "data": {
      "text/html": [
       "<div>\n",
       "<style scoped>\n",
       "    .dataframe tbody tr th:only-of-type {\n",
       "        vertical-align: middle;\n",
       "    }\n",
       "\n",
       "    .dataframe tbody tr th {\n",
       "        vertical-align: top;\n",
       "    }\n",
       "\n",
       "    .dataframe thead th {\n",
       "        text-align: right;\n",
       "    }\n",
       "</style>\n",
       "<table border=\"1\" class=\"dataframe\">\n",
       "  <thead>\n",
       "    <tr style=\"text-align: right;\">\n",
       "      <th></th>\n",
       "      <th>Team</th>\n",
       "      <th>Home/Away</th>\n",
       "      <th>Odds</th>\n",
       "      <th>Value</th>\n",
       "      <th>Units</th>\n",
       "      <th>Result</th>\n",
       "      <th>Winnings</th>\n",
       "    </tr>\n",
       "  </thead>\n",
       "  <tbody>\n",
       "    <tr>\n",
       "      <th>0</th>\n",
       "      <td>Brewers</td>\n",
       "      <td>Away</td>\n",
       "      <td>130</td>\n",
       "      <td>0.079791</td>\n",
       "      <td>0.4</td>\n",
       "      <td>L</td>\n",
       "      <td>-0.400000</td>\n",
       "    </tr>\n",
       "    <tr>\n",
       "      <th>1</th>\n",
       "      <td>Phillies</td>\n",
       "      <td>Away</td>\n",
       "      <td>-170</td>\n",
       "      <td>0.027656</td>\n",
       "      <td>0.1</td>\n",
       "      <td>W</td>\n",
       "      <td>0.058824</td>\n",
       "    </tr>\n",
       "    <tr>\n",
       "      <th>2</th>\n",
       "      <td>Royals</td>\n",
       "      <td>Home</td>\n",
       "      <td>-125</td>\n",
       "      <td>0.006640</td>\n",
       "      <td>0.1</td>\n",
       "      <td>L</td>\n",
       "      <td>-0.100000</td>\n",
       "    </tr>\n",
       "    <tr>\n",
       "      <th>3</th>\n",
       "      <td>Reds</td>\n",
       "      <td>Home</td>\n",
       "      <td>-104</td>\n",
       "      <td>0.007431</td>\n",
       "      <td>0.1</td>\n",
       "      <td>L</td>\n",
       "      <td>-0.100000</td>\n",
       "    </tr>\n",
       "    <tr>\n",
       "      <th>4</th>\n",
       "      <td>White Sox</td>\n",
       "      <td>Home</td>\n",
       "      <td>134</td>\n",
       "      <td>0.036540</td>\n",
       "      <td>0.2</td>\n",
       "      <td>W</td>\n",
       "      <td>0.268000</td>\n",
       "    </tr>\n",
       "    <tr>\n",
       "      <th>...</th>\n",
       "      <td>...</td>\n",
       "      <td>...</td>\n",
       "      <td>...</td>\n",
       "      <td>...</td>\n",
       "      <td>...</td>\n",
       "      <td>...</td>\n",
       "      <td>...</td>\n",
       "    </tr>\n",
       "    <tr>\n",
       "      <th>711</th>\n",
       "      <td>Dodgers</td>\n",
       "      <td>Home</td>\n",
       "      <td>-178</td>\n",
       "      <td>0.010602</td>\n",
       "      <td>0.1</td>\n",
       "      <td>W</td>\n",
       "      <td>0.056180</td>\n",
       "    </tr>\n",
       "    <tr>\n",
       "      <th>712</th>\n",
       "      <td>Tigers</td>\n",
       "      <td>Home</td>\n",
       "      <td>-290</td>\n",
       "      <td>0.042407</td>\n",
       "      <td>0.2</td>\n",
       "      <td>P</td>\n",
       "      <td>0.000000</td>\n",
       "    </tr>\n",
       "    <tr>\n",
       "      <th>713</th>\n",
       "      <td>Twins</td>\n",
       "      <td>Away</td>\n",
       "      <td>108</td>\n",
       "      <td>0.132798</td>\n",
       "      <td>1.5</td>\n",
       "      <td>L</td>\n",
       "      <td>-1.500000</td>\n",
       "    </tr>\n",
       "    <tr>\n",
       "      <th>714</th>\n",
       "      <td>Mets</td>\n",
       "      <td>Away</td>\n",
       "      <td>160</td>\n",
       "      <td>0.025183</td>\n",
       "      <td>0.1</td>\n",
       "      <td>L</td>\n",
       "      <td>-0.100000</td>\n",
       "    </tr>\n",
       "    <tr>\n",
       "      <th>715</th>\n",
       "      <td>Royals</td>\n",
       "      <td>Away</td>\n",
       "      <td>-115</td>\n",
       "      <td>0.059768</td>\n",
       "      <td>0.2</td>\n",
       "      <td>W</td>\n",
       "      <td>0.173913</td>\n",
       "    </tr>\n",
       "  </tbody>\n",
       "</table>\n",
       "<p>716 rows × 7 columns</p>\n",
       "</div>"
      ],
      "text/plain": [
       "          Team Home/Away  Odds     Value  Units Result  Winnings\n",
       "0      Brewers      Away   130  0.079791    0.4      L -0.400000\n",
       "1     Phillies      Away  -170  0.027656    0.1      W  0.058824\n",
       "2       Royals      Home  -125  0.006640    0.1      L -0.100000\n",
       "3         Reds      Home  -104  0.007431    0.1      L -0.100000\n",
       "4    White Sox      Home   134  0.036540    0.2      W  0.268000\n",
       "..         ...       ...   ...       ...    ...    ...       ...\n",
       "711    Dodgers      Home  -178  0.010602    0.1      W  0.056180\n",
       "712     Tigers      Home  -290  0.042407    0.2      P  0.000000\n",
       "713      Twins      Away   108  0.132798    1.5      L -1.500000\n",
       "714       Mets      Away   160  0.025183    0.1      L -0.100000\n",
       "715     Royals      Away  -115  0.059768    0.2      W  0.173913\n",
       "\n",
       "[716 rows x 7 columns]"
      ]
     },
     "execution_count": 2,
     "metadata": {},
     "output_type": "execute_result"
    }
   ],
   "source": [
    "import pandas as pd\n",
    "\n",
    "file = \"MLB TEST MODEL.xlsx\"\n",
    "df = pd.read_excel(file)\n",
    "df"
   ]
  },
  {
   "cell_type": "markdown",
   "metadata": {},
   "source": [
    "Making sure that all the results are valid"
   ]
  },
  {
   "cell_type": "code",
   "execution_count": 3,
   "metadata": {},
   "outputs": [
    {
     "data": {
      "text/plain": [
       "np.True_"
      ]
     },
     "execution_count": 3,
     "metadata": {},
     "output_type": "execute_result"
    }
   ],
   "source": [
    "possibleResults = ['W', 'L', 'P']\n",
    "validResults = df['Result'].isin(possibleResults).all()\n",
    "validResults"
   ]
  },
  {
   "cell_type": "markdown",
   "metadata": {},
   "source": [
    "I want to check if the model overall is profitable (no team-specific analysis)"
   ]
  },
  {
   "cell_type": "code",
   "execution_count": 4,
   "metadata": {},
   "outputs": [
    {
     "name": "stdout",
     "output_type": "stream",
     "text": [
      "Sum of units: 275.20000000000005\n",
      "Sum of winnings: -0.7379246816197238\n"
     ]
    }
   ],
   "source": [
    "unitsSum = df['Units'].sum()\n",
    "print(f\"Sum of units: {unitsSum}\")\n",
    "winningsSum = df['Winnings'].sum()\n",
    "print(f\"Sum of winnings: {winningsSum}\")"
   ]
  },
  {
   "cell_type": "markdown",
   "metadata": {},
   "source": [
    "This shows that the model has risked around 275 units and the net profit is around -0.74 units. This means that the model has not made any profit, it has lost money.\n",
    "\n",
    "We can calculate the ROI (return on investment) using that data:\n",
    "* Total units risked: ~275.2\n",
    "* Net profit: -0.74 units\n",
    "\n",
    "$$\n",
    "\\text{ROI} = \\frac{-0.74}{275.2} = -0.27\\%\n",
    "$$\n",
    "\n",
    "**ROI: ~ -0.27%**\n"
   ]
  },
  {
   "cell_type": "markdown",
   "metadata": {},
   "source": [
    "Now I want to check the number of `'W', 'L', 'P'` respectively"
   ]
  },
  {
   "cell_type": "code",
   "execution_count": 5,
   "metadata": {},
   "outputs": [
    {
     "data": {
      "text/plain": [
       "Result\n",
       "W    369\n",
       "L    334\n",
       "P     13\n",
       "Name: count, dtype: int64"
      ]
     },
     "execution_count": 5,
     "metadata": {},
     "output_type": "execute_result"
    }
   ],
   "source": [
    "df['Result'].value_counts()"
   ]
  },
  {
   "cell_type": "markdown",
   "metadata": {},
   "source": [
    "<i>\n",
    "For me:\n",
    "\n",
    "'P' -> Push (bet is not a win or a loss)<br>\n",
    "Ex: You bet on under 8.0 runs and the game ends on exactly 8 runs\n",
    "</i>\n",
    "\n",
    "So we can see that the number of wins are actually greater than the number of losses (based on the results above). But since the net profit (based on units) is a negative number, then my initial hypothesis is that it means that the losses are more costly since we are risking more for the bets that we lost.\n",
    "\n",
    "So, my hypothesis is that the bet sizing is wrong. We are risking too much on the bets that we lose. This can be a result of the confidence being wrong."
   ]
  },
  {
   "cell_type": "markdown",
   "metadata": {},
   "source": [
    "We are calculating the average unit size for wins vs losses to test my hypothesis. (We want to see if the losses are more costly and if we are wagering too much for some of our losses)"
   ]
  },
  {
   "cell_type": "code",
   "execution_count": 10,
   "metadata": {},
   "outputs": [
    {
     "name": "stdout",
     "output_type": "stream",
     "text": [
      "Average unit size for wins: 0.38346883468834686\n",
      "Average unit size for losses: 0.3847305389221557\n"
     ]
    }
   ],
   "source": [
    "avgUnitSizeWin = df[df['Result'] == 'W']['Units'].mean()\n",
    "print(f\"Average unit size for wins: {avgUnitSizeWin}\")\n",
    "\n",
    "avgUnitSizeLoss = df[df['Result'] == 'L']['Units'].mean()\n",
    "print(f\"Average unit size for losses: {avgUnitSizeLoss}\")"
   ]
  },
  {
   "cell_type": "markdown",
   "metadata": {},
   "source": [
    "This surprised me. We see that the average unit size for the winning and losing bets are nearly identical (~ 0.38 units). This suggests that the model's bet sizing based on units is quite consistent and not the issue in this case. But since the model ends up on a net loss, we have to see the model's value and analyze that. We have to see if the model is betting on plays/ games that appear to be profitable but are not in reality. (Plays that don't turn out as expected) "
   ]
  },
  {
   "cell_type": "markdown",
   "metadata": {},
   "source": [
    "I want to check if bets with higher value actually perform better. We will plot out the correlation to see.\n",
    "\n",
    "If the model assigns a high value, it expects that bet to be more profitable. So we expect those bets to win more often and have a high ROI. If they don't, then the model might be overconfident or miscalibrated."
   ]
  },
  {
   "cell_type": "code",
   "execution_count": 13,
   "metadata": {},
   "outputs": [
    {
     "name": "stdout",
     "output_type": "stream",
     "text": [
      "Requirement already satisfied: matplotlib in ./.venv/lib/python3.13/site-packages (3.10.3)\n",
      "Requirement already satisfied: contourpy>=1.0.1 in ./.venv/lib/python3.13/site-packages (from matplotlib) (1.3.2)\n",
      "Requirement already satisfied: cycler>=0.10 in ./.venv/lib/python3.13/site-packages (from matplotlib) (0.12.1)\n",
      "Requirement already satisfied: fonttools>=4.22.0 in ./.venv/lib/python3.13/site-packages (from matplotlib) (4.58.4)\n",
      "Requirement already satisfied: kiwisolver>=1.3.1 in ./.venv/lib/python3.13/site-packages (from matplotlib) (1.4.8)\n",
      "Requirement already satisfied: numpy>=1.23 in ./.venv/lib/python3.13/site-packages (from matplotlib) (2.3.0)\n",
      "Requirement already satisfied: packaging>=20.0 in ./.venv/lib/python3.13/site-packages (from matplotlib) (25.0)\n",
      "Requirement already satisfied: pillow>=8 in ./.venv/lib/python3.13/site-packages (from matplotlib) (11.2.1)\n",
      "Requirement already satisfied: pyparsing>=2.3.1 in ./.venv/lib/python3.13/site-packages (from matplotlib) (3.2.3)\n",
      "Requirement already satisfied: python-dateutil>=2.7 in ./.venv/lib/python3.13/site-packages (from matplotlib) (2.9.0.post0)\n",
      "Requirement already satisfied: six>=1.5 in ./.venv/lib/python3.13/site-packages (from python-dateutil>=2.7->matplotlib) (1.17.0)\n",
      "Note: you may need to restart the kernel to use updated packages.\n"
     ]
    }
   ],
   "source": [
    "%pip install matplotlib"
   ]
  },
  {
   "cell_type": "code",
   "execution_count": 16,
   "metadata": {},
   "outputs": [
    {
     "name": "stdout",
     "output_type": "stream",
     "text": [
      "ROI for Low value bets: -0.0185\n",
      "ROI for Medium value bets: -0.0360\n",
      "ROI for High value bets: -0.0186\n",
      "ROI for Very High value bets: 0.0156\n"
     ]
    }
   ],
   "source": [
    "valueCutoffs = [-float('inf'), 0.02, 0.05, 0.1, float('inf')]\n",
    "\n",
    "valueLabels = ['Low', 'Medium', 'High', 'Very High']\n",
    "\n",
    "valueGroups = pd.cut(df['Value'], bins=valueCutoffs, labels=valueLabels)\n",
    "\n",
    "roiResults = {}\n",
    "\n",
    "for group in valueLabels:\n",
    "    groupRows = df[valueGroups == group]\n",
    "    totalWinnings = groupRows['Winnings'].sum()\n",
    "    totalUnits = groupRows['Units'].sum()\n",
    "    roi = totalWinnings / totalUnits if totalUnits != 0 else 0\n",
    "    roiResults[group] = roi\n",
    "\n",
    "for group, roi in roiResults.items():\n",
    "    print(f\"ROI for {group} value bets: {roi:.4f}\")"
   ]
  },
  {
   "cell_type": "code",
   "execution_count": 17,
   "metadata": {},
   "outputs": [
    {
     "data": {
      "image/png": "[encoded data removed]",
      "text/plain": [
       "<Figure size 640x480 with 1 Axes>"
      ]
     },
     "metadata": {},
     "output_type": "display_data"
    }
   ],
   "source": [
    "import matplotlib.pyplot as plt\n",
    "\n",
    "groups = list(roiResults.keys()) \n",
    "rois = list(roiResults.values()) \n",
    "\n",
    "plt.bar(groups, rois)\n",
    "plt.axhline(0, color='red', linestyle='--')\n",
    "plt.title('ROI by Model Value Category')\n",
    "plt.xlabel('Value Category')\n",
    "plt.ylabel('ROI')\n",
    "plt.show()"
   ]
  },
  {
   "cell_type": "markdown",
   "metadata": {},
   "source": [
    "The graph shows us that the 'Very High' value bets are the only ones that show a positive return. The rest of the value bets ('Low', 'Medium', and 'High') all resulted in a loss. This suggests that the model's confidence can predict some bets but it struggles to make consistent profits on bets of low, medium, or high confidence. So, we can see what we need to do for improving the model's calibration and unit sizing strategies. We want to reduce the losses on bets with lower confidence."
   ]
  },
  {
   "cell_type": "markdown",
   "metadata": {},
   "source": [
    "1. The model seems to be too aggressive when it comes to its bets that end up losing. We see that the win rate is higher than the lose rate. So, the losses are due to the model having an overconfident **value** estimate. Its confidence level is not very good when it comes to these losing bets. This influences the model's unit sizing. It ends up putting bigger unit sizes at risk. Some things we can do to help mitigate this issue are capping the maximum bet sizes, especially on bets with uncertain ROI or ones which have a historically bad ROI. \n",
    "\n",
    "2. I believe I would be a good fit for your startup team because of my passion for both sports and computer science. I have always been interested in combining the two in a meaningful way, where we can apply it to a real-world profitable scenario. I also have recently been trying to do some computer science related projects with sports. I found a Medium article about NBA data analysis and have been trying to learn how to build models using this data. I plan on making a soccer and basketball match predictor in the near future. My friends are also really into sports and placing bets so I hope that what I create can also help them as well. My primary sports interests have been soccer and basketball/ the NBA. But, I am also open to working with other sports. I think exploring NBA totals and player props would interest me. I think we can use historical data based on player and team to accomplish this. For live betting algorithms, I think this would require some research and some fast-pace algorithms that can accomplish this quickly since these are relying on real-time situations. In soccer, the unders/ expected goals would also interest me since it would require doing some analysis on teams and the players and their performances."
   ]
  }
 ],
 "metadata": {
  "kernelspec": {
   "display_name": ".venv",
   "language": "python",
   "name": "python3"
  },
  "language_info": {
   "codemirror_mode": {
    "name": "ipython",
    "version": 3
   },
   "file_extension": ".py",
   "mimetype": "text/x-python",
   "name": "python",
   "nbconvert_exporter": "python",
   "pygments_lexer": "ipython3",
   "version": "3.13.3"
  }
 },
 "nbformat": 4,
 "nbformat_minor": 2
}
